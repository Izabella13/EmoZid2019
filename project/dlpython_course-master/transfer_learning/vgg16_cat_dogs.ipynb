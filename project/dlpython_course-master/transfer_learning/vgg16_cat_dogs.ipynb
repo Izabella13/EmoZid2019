{
 "cells": [
  {
   "cell_type": "code",
   "execution_count": 27,
   "metadata": {
    "collapsed": true
   },
   "outputs": [],
   "source": [
    "from keras.preprocessing import image\n",
    "from keras.models import Model\n",
    "from keras.layers import Dense, GlobalAveragePooling2D\n",
    "from keras import applications\n",
    "from keras.preprocessing.image import ImageDataGenerator\n",
    "from keras import optimizers\n",
    "from keras.models import Sequential\n",
    "from keras.layers import Dropout, Flatten, Dense\n",
    "from keras.models import Model"
   ]
  },
  {
   "cell_type": "code",
   "execution_count": 37,
   "metadata": {
    "collapsed": true
   },
   "outputs": [],
   "source": [
    "# Размер изображений\n",
    "img_width, img_height = 150, 150\n",
    "# Путь к каталогу с изображениями для обучения\n",
    "train_data_dir = 'data/train'\n",
    "# Путь к каталогу с изображениями для валидации\n",
    "validation_data_dir = 'data/validation'\n",
    "# Количество изображений для обучения\n",
    "nb_train_samples = 2000\n",
    "# Количество изображений для валидации\n",
    "nb_validation_samples = 800\n",
    "# Количество эпох\n",
    "epochs = 5\n",
    "# Размер выборки\n",
    "batch_size = 16"
   ]
  },
  {
   "cell_type": "code",
   "execution_count": 38,
   "metadata": {
    "collapsed": true
   },
   "outputs": [],
   "source": [
    "# Загружаем сеть VGG16 без части, которая отвечает за классификацию\n",
    "base_model = applications.VGG16(weights='imagenet', include_top=False)"
   ]
  },
  {
   "cell_type": "code",
   "execution_count": 39,
   "metadata": {
    "collapsed": true
   },
   "outputs": [],
   "source": [
    "# Добавляем слои классификации\n",
    "x = base_model.output\n",
    "x = GlobalAveragePooling2D()(x)\n",
    "x = Dense(1024, activation='relu')(x)\n",
    "# Выходной слой с двумя нейронами для классов \"кот\" и \"собака\"\n",
    "predictions = Dense(2, activation='softmax')(x)"
   ]
  },
  {
   "cell_type": "code",
   "execution_count": 40,
   "metadata": {
    "collapsed": true
   },
   "outputs": [],
   "source": [
    "# Составляем сеть из двух частей\n",
    "model = Model(inputs=base_model.input, outputs=predictions)"
   ]
  },
  {
   "cell_type": "code",
   "execution_count": 41,
   "metadata": {
    "collapsed": true
   },
   "outputs": [],
   "source": [
    "# \"Замораживаем\" сверточные уровни сети VGG16\n",
    "# Обучаем только вновь добавленные слои\n",
    "for layer in base_model.layers:\n",
    "    layer.trainable = False"
   ]
  },
  {
   "cell_type": "code",
   "execution_count": 42,
   "metadata": {
    "collapsed": true
   },
   "outputs": [],
   "source": [
    "# Компилируем модель\n",
    "model.compile(optimizer='rmsprop', loss='categorical_crossentropy', metrics=['accuracy'])"
   ]
  },
  {
   "cell_type": "code",
   "execution_count": 43,
   "metadata": {},
   "outputs": [
    {
     "name": "stdout",
     "output_type": "stream",
     "text": [
      "Found 2000 images belonging to 2 classes.\n"
     ]
    }
   ],
   "source": [
    "# Создаем генератор данных для обучения\n",
    "datagen = ImageDataGenerator(rescale=1. / 255)\n",
    "train_generator = datagen.flow_from_directory(\n",
    "    train_data_dir,\n",
    "    target_size=(img_width, img_height),\n",
    "    batch_size=batch_size,\n",
    "    class_mode= 'categorical')"
   ]
  },
  {
   "cell_type": "code",
   "execution_count": 44,
   "metadata": {},
   "outputs": [
    {
     "name": "stdout",
     "output_type": "stream",
     "text": [
      "Found 800 images belonging to 2 classes.\n"
     ]
    }
   ],
   "source": [
    "# Создаем генератор данных для валидации\n",
    "validation_generator = datagen.flow_from_directory(\n",
    "    validation_data_dir,\n",
    "    target_size=(img_width, img_height),\n",
    "    batch_size=batch_size,\n",
    "    class_mode= 'categorical')"
   ]
  },
  {
   "cell_type": "code",
   "execution_count": 45,
   "metadata": {},
   "outputs": [
    {
     "name": "stdout",
     "output_type": "stream",
     "text": [
      "Epoch 1/5\n",
      "2000/2000 [==============================] - 420s - loss: 0.2018 - acc: 0.9127 - val_loss: 0.3946 - val_acc: 0.8988\n",
      "Epoch 2/5\n",
      "2000/2000 [==============================] - 418s - loss: 0.0391 - acc: 0.9859 - val_loss: 0.7952 - val_acc: 0.8586\n",
      "Epoch 3/5\n",
      "2000/2000 [==============================] - 417s - loss: 0.0135 - acc: 0.9959 - val_loss: 0.8118 - val_acc: 0.8910\n",
      "Epoch 4/5\n",
      "2000/2000 [==============================] - 416s - loss: 0.0115 - acc: 0.9974 - val_loss: 1.0057 - val_acc: 0.8939\n",
      "Epoch 5/5\n",
      "2000/2000 [==============================] - 416s - loss: 0.0135 - acc: 0.9974 - val_loss: 1.2302 - val_acc: 0.8691\n"
     ]
    },
    {
     "data": {
      "text/plain": [
       "<keras.callbacks.History at 0x1f8d1353860>"
      ]
     },
     "execution_count": 45,
     "metadata": {},
     "output_type": "execute_result"
    }
   ],
   "source": [
    "# Обучаем модель с помощью генератора\n",
    "model.fit_generator(\n",
    "    train_generator,\n",
    "    steps_per_epoch=nb_train_samples,\n",
    "    epochs=epochs,\n",
    "    validation_data=validation_generator,\n",
    "    validation_steps = nb_validation_samples)"
   ]
  },
  {
   "cell_type": "code",
   "execution_count": 46,
   "metadata": {},
   "outputs": [
    {
     "name": "stdout",
     "output_type": "stream",
     "text": [
      "Сохраняем сеть\n",
      "Сохранение сети завершено\n"
     ]
    }
   ],
   "source": [
    "print(\"Сохраняем сеть\")\n",
    "# Сохраняем сеть для последующего использования\n",
    "# Генерируем описание модели в формате json\n",
    "model_json = model.to_json()\n",
    "json_file = open(\"vgg16_cat_dogs.json\", \"w\")\n",
    "# Записываем архитектуру сети в файл\n",
    "json_file.write(model_json)\n",
    "json_file.close()\n",
    "# Записываем данные о весах в файл\n",
    "model.save_weights(\"vgg16_cat_dogs.h5\")\n",
    "print(\"Сохранение сети завершено\")"
   ]
  }
 ],
 "metadata": {
  "kernelspec": {
   "display_name": "Python 3",
   "language": "python",
   "name": "python3"
  },
  "language_info": {
   "codemirror_mode": {
    "name": "ipython",
    "version": 3
   },
   "file_extension": ".py",
   "mimetype": "text/x-python",
   "name": "python",
   "nbconvert_exporter": "python",
   "pygments_lexer": "ipython3",
   "version": "3.6.1"
  }
 },
 "nbformat": 4,
 "nbformat_minor": 2
}
