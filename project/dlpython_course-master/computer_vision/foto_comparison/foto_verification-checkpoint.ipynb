{
 "cells": [
  {
   "cell_type": "markdown",
   "metadata": {},
   "source": [
    "# Пример верификации человека на фотографии с помощью библиотеки dlib\n",
    "\n",
    "**Верификация** - это задача определения, находится ли на изображении нужный нам человек, или нет. \n",
    "\n",
    "Мы будем решать задачу верификации человека на двух фотографиях. Нам нужно будет определить, один человек изображен на двух фотографиях, или нет."
   ]
  },
  {
   "cell_type": "code",
   "execution_count": 1,
   "metadata": {
    "collapsed": true
   },
   "outputs": [],
   "source": [
    "import dlib\n",
    "from skimage import io\n",
    "from scipy.spatial import distance"
   ]
  },
  {
   "cell_type": "markdown",
   "metadata": {},
   "source": [
    "# Создаем модели для поиска и нахождения лиц в dlib\n",
    "\n",
    "Предварительно обученные модели можно скачать по ссылкам:\n",
    "- http://dlib.net/files/shape_predictor_68_face_landmarks.dat.bz2\n",
    "- http://dlib.net/files/dlib_face_recognition_resnet_model_v1.dat.bz2\n",
    "\n",
    "Файлы с моделями нужно разархивировать и положить в каталог с этим notebook"
   ]
  },
  {
   "cell_type": "code",
   "execution_count": 2,
   "metadata": {
    "collapsed": true
   },
   "outputs": [],
   "source": [
    "sp = dlib.shape_predictor('shape_predictor_68_face_landmarks.dat')\n",
    "facerec = dlib.face_recognition_model_v1('dlib_face_recognition_resnet_model_v1.dat')\n",
    "detector = dlib.get_frontal_face_detector()"
   ]
  },
  {
   "cell_type": "markdown",
   "metadata": {
    "collapsed": true
   },
   "source": [
    "Загружаем первую фотографию"
   ]
  },
  {
   "cell_type": "code",
   "execution_count": 3,
   "metadata": {
    "collapsed": true
   },
   "outputs": [],
   "source": [
    "img = io.imread('sozykin_passport.jpg')"
   ]
  },
  {
   "cell_type": "markdown",
   "metadata": {},
   "source": [
    "Показываем фотографию средствами dlib"
   ]
  },
  {
   "cell_type": "code",
   "execution_count": 4,
   "metadata": {
    "collapsed": true
   },
   "outputs": [],
   "source": [
    "win1 = dlib.image_window()\n",
    "win1.clear_overlay()\n",
    "win1.set_image(img)"
   ]
  },
  {
   "cell_type": "markdown",
   "metadata": {},
   "source": [
    "# Находим лицо на фотографии"
   ]
  },
  {
   "cell_type": "code",
   "execution_count": 5,
   "metadata": {
    "collapsed": true
   },
   "outputs": [],
   "source": [
    "dets = detector(img, 1)"
   ]
  },
  {
   "cell_type": "code",
   "execution_count": 6,
   "metadata": {},
   "outputs": [
    {
     "name": "stdout",
     "output_type": "stream",
     "text": [
      "Detection 0: Left: 67 Top: 96 Right: 196 Bottom: 225\n"
     ]
    }
   ],
   "source": [
    "for k, d in enumerate(dets):\n",
    "    print(\"Detection {}: Left: {} Top: {} Right: {} Bottom: {}\".format(\n",
    "        k, d.left(), d.top(), d.right(), d.bottom()))\n",
    "    shape = sp(img, d)\n",
    "    win1.clear_overlay()\n",
    "    win1.add_overlay(d)\n",
    "    win1.add_overlay(shape)"
   ]
  },
  {
   "cell_type": "markdown",
   "metadata": {},
   "source": [
    "# Извлекаем дескриптор из лица"
   ]
  },
  {
   "cell_type": "code",
   "execution_count": 7,
   "metadata": {
    "collapsed": true
   },
   "outputs": [],
   "source": [
    "face_descriptor1 = facerec.compute_face_descriptor(img, shape)"
   ]
  },
  {
   "cell_type": "markdown",
   "metadata": {},
   "source": [
    "Печатаем дексриптор"
   ]
  },
  {
   "cell_type": "code",
   "execution_count": 8,
   "metadata": {},
   "outputs": [
    {
     "name": "stdout",
     "output_type": "stream",
     "text": [
      "-0.143361\n",
      "-0.010574\n",
      "-0.0205466\n",
      "-0.0760989\n",
      "-0.0817859\n",
      "0.0557212\n",
      "-0.0598148\n",
      "-0.104499\n",
      "0.156351\n",
      "-0.113137\n",
      "0.2541\n",
      "-0.0255717\n",
      "-0.294706\n",
      "-0.0657252\n",
      "0.00546183\n",
      "0.0197356\n",
      "-0.119519\n",
      "-0.0928954\n",
      "-0.0307344\n",
      "-0.025405\n",
      "0.0452379\n",
      "0.027095\n",
      "-0.0301305\n",
      "0.0345449\n",
      "-0.133859\n",
      "-0.27474\n",
      "-0.159836\n",
      "-0.18149\n",
      "-0.0380562\n",
      "-0.0625319\n",
      "0.00485351\n",
      "0.0269533\n",
      "-0.0954231\n",
      "-0.0492104\n",
      "0.031918\n",
      "0.0857472\n",
      "-0.0927711\n",
      "-0.0259642\n",
      "0.233257\n",
      "-0.00325606\n",
      "-0.121691\n",
      "-0.079394\n",
      "0.0188353\n",
      "0.197803\n",
      "0.130644\n",
      "0.0386678\n",
      "-0.0112381\n",
      "-0.0870395\n",
      "0.141996\n",
      "-0.205454\n",
      "0.0560226\n",
      "0.253123\n",
      "0.206587\n",
      "0.118089\n",
      "0.0277112\n",
      "-0.154927\n",
      "0.0465367\n",
      "0.162008\n",
      "-0.245842\n",
      "0.0605535\n",
      "0.048827\n",
      "-0.0922293\n",
      "-0.0161505\n",
      "-0.0251943\n",
      "0.197178\n",
      "0.106469\n",
      "-0.167589\n",
      "-0.182694\n",
      "0.208899\n",
      "-0.130925\n",
      "-0.081063\n",
      "0.127503\n",
      "-0.199762\n",
      "-0.283384\n",
      "-0.185639\n",
      "0.0758053\n",
      "0.370921\n",
      "0.135176\n",
      "-0.126596\n",
      "-0.00810343\n",
      "-0.170073\n",
      "-0.130998\n",
      "-0.0382377\n",
      "0.0440755\n",
      "0.00773637\n",
      "-0.111487\n",
      "-0.0522793\n",
      "-0.0378758\n",
      "0.171189\n",
      "-0.0571423\n",
      "0.025922\n",
      "0.188256\n",
      "0.00952435\n",
      "0.0605275\n",
      "0.0295069\n",
      "0.0615573\n",
      "-0.0917479\n",
      "0.0212216\n",
      "-0.057545\n",
      "0.0380124\n",
      "-0.0730892\n",
      "-0.134272\n",
      "0.0256359\n",
      "0.063667\n",
      "-0.145198\n",
      "0.228549\n",
      "0.0148294\n",
      "-0.0463585\n",
      "-0.057713\n",
      "-0.0879126\n",
      "-0.10461\n",
      "-0.0139646\n",
      "0.219559\n",
      "-0.319542\n",
      "0.197508\n",
      "0.113558\n",
      "0.116419\n",
      "0.194342\n",
      "0.0509606\n",
      "0.105459\n",
      "-0.0153985\n",
      "-0.0616571\n",
      "-0.264749\n",
      "-0.0923162\n",
      "0.00994077\n",
      "-0.000828513\n",
      "-0.0394463\n",
      "0.0146801\n"
     ]
    }
   ],
   "source": [
    "print(face_descriptor1)"
   ]
  },
  {
   "cell_type": "markdown",
   "metadata": {},
   "source": [
    "# Загружаем и обрабатываем вторую фотографию"
   ]
  },
  {
   "cell_type": "code",
   "execution_count": 9,
   "metadata": {},
   "outputs": [
    {
     "name": "stdout",
     "output_type": "stream",
     "text": [
      "Detection 0: Left: 77 Top: 98 Right: 262 Bottom: 284\n"
     ]
    }
   ],
   "source": [
    "img = io.imread('sozykin_webcam.jpg')\n",
    "win2 = dlib.image_window()\n",
    "win2.clear_overlay()\n",
    "win2.set_image(img)\n",
    "dets_webcam = detector(img, 1)\n",
    "for k, d in enumerate(dets_webcam):\n",
    "    print(\"Detection {}: Left: {} Top: {} Right: {} Bottom: {}\".format(\n",
    "        k, d.left(), d.top(), d.right(), d.bottom()))\n",
    "    shape = sp(img, d)\n",
    "    win2.clear_overlay()\n",
    "    win2.add_overlay(d)\n",
    "    win2.add_overlay(shape)\n"
   ]
  },
  {
   "cell_type": "code",
   "execution_count": 10,
   "metadata": {
    "collapsed": true
   },
   "outputs": [],
   "source": [
    "face_descriptor2 = facerec.compute_face_descriptor(img, shape)"
   ]
  },
  {
   "cell_type": "markdown",
   "metadata": {},
   "source": [
    "# Рассчитываем Евклидово расстояние между двумя дексрипторами лиц\n",
    "\n",
    "В dlib рекомендуется использовать граничное значение Евклидова расстояния между дескрипторами лиц равное 0.6. Если Евклидово расстояние меньше 0.6, значит фотографии принадлежат одному человеку. \n",
    "\n",
    "С использованием такой метрики dlib обеспечивает точность 99.38% на тесте распознавания лиц Labeled Faces in the Wild. Подробности можно посмотреть по ссылке - http://dlib.net/face_recognition.py.html"
   ]
  },
  {
   "cell_type": "code",
   "execution_count": 12,
   "metadata": {},
   "outputs": [
    {
     "name": "stdout",
     "output_type": "stream",
     "text": [
      "0.3902376324980303\n"
     ]
    }
   ],
   "source": [
    "a = distance.euclidean(face_descriptor1, face_descriptor2)\n",
    "print(a)"
   ]
  },
  {
   "cell_type": "code",
   "execution_count": null,
   "metadata": {
    "collapsed": true
   },
   "outputs": [],
   "source": []
  }
 ],
 "metadata": {
  "kernelspec": {
   "display_name": "Python 3",
   "language": "python",
   "name": "python3"
  },
  "language_info": {
   "codemirror_mode": {
    "name": "ipython",
    "version": 3
   },
   "file_extension": ".py",
   "mimetype": "text/x-python",
   "name": "python",
   "nbconvert_exporter": "python",
   "pygments_lexer": "ipython3",
   "version": "3.6.1"
  }
 },
 "nbformat": 4,
 "nbformat_minor": 2
}
