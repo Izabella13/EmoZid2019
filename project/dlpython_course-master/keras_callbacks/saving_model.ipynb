{
 "cells": [
  {
   "cell_type": "markdown",
   "metadata": {},
   "source": [
    "# Пример использования ModelCheckpoint Callback сохранения нейронной сети на каждом этапе обучения\n",
    "\n",
    "Документация по [ModelCheckpoint Callback](https://keras.io/callbacks/#modelcheckpoint) на сайте Keras."
   ]
  },
  {
   "cell_type": "code",
   "execution_count": 28,
   "metadata": {},
   "outputs": [],
   "source": [
    "from tensorflow.keras.datasets import mnist\n",
    "from tensorflow.keras.models import Sequential\n",
    "from tensorflow.keras.layers import Dense\n",
    "from tensorflow.keras import utils\n",
    "from tensorflow.keras.callbacks import ModelCheckpoint\n",
    "import numpy as np\n",
    "import matplotlib.pyplot as plt\n",
    "from scipy.misc import toimage\n",
    "%matplotlib inline "
   ]
  },
  {
   "cell_type": "markdown",
   "metadata": {},
   "source": [
    "# Загружаем данные MNIST"
   ]
  },
  {
   "cell_type": "code",
   "execution_count": 29,
   "metadata": {},
   "outputs": [],
   "source": [
    "(X_train, y_train), (X_test, y_test) = mnist.load_data()"
   ]
  },
  {
   "cell_type": "markdown",
   "metadata": {},
   "source": [
    "Преобразуем данные в нужный формат"
   ]
  },
  {
   "cell_type": "code",
   "execution_count": 30,
   "metadata": {},
   "outputs": [],
   "source": [
    "X_train = X_train.reshape(60000, 784)\n",
    "X_test = X_test.reshape(10000, 784)"
   ]
  },
  {
   "cell_type": "code",
   "execution_count": 31,
   "metadata": {},
   "outputs": [],
   "source": [
    "X_train = X_train.astype('float32')\n",
    "X_test = X_test.astype('float32')\n",
    "X_train /= 255\n",
    "X_test /= 255"
   ]
  },
  {
   "cell_type": "code",
   "execution_count": 32,
   "metadata": {},
   "outputs": [],
   "source": [
    "Y_train = utils.to_categorical(y_train, 10)\n",
    "Y_test = utils.to_categorical(y_test, 10)"
   ]
  },
  {
   "cell_type": "markdown",
   "metadata": {},
   "source": [
    "# Создаем нейронную сеть"
   ]
  },
  {
   "cell_type": "code",
   "execution_count": 38,
   "metadata": {},
   "outputs": [],
   "source": [
    "model = Sequential()"
   ]
  },
  {
   "cell_type": "code",
   "execution_count": 39,
   "metadata": {},
   "outputs": [],
   "source": [
    "model.add(Dense(800, input_dim=784, activation=\"relu\"))\n",
    "model.add(Dense(10, activation=\"softmax\"))"
   ]
  },
  {
   "cell_type": "markdown",
   "metadata": {},
   "source": [
    "Компилируем сеть"
   ]
  },
  {
   "cell_type": "code",
   "execution_count": 40,
   "metadata": {},
   "outputs": [],
   "source": [
    "model.compile(loss=\"categorical_crossentropy\", optimizer=\"adam\", metrics=[\"accuracy\"])"
   ]
  },
  {
   "cell_type": "markdown",
   "metadata": {},
   "source": [
    "## Создаем Callback для ModelCheckpoint"
   ]
  },
  {
   "cell_type": "code",
   "execution_count": 45,
   "metadata": {},
   "outputs": [],
   "source": [
    "# Сохраняем сеть на каждой эпохе\n",
    "# {epoch:02d} - номер эпохи\n",
    "# {val_acc:.4f} - значение аккуратности на проверочном ноборе данных\n",
    "# callbacks = [ModelCheckpoint('save/mnist-dense-{epoch:02d}-{val_acc:.4f}.hdf5')]\n",
    "# Сохраняем только лучший вариант сети\n",
    "callbacks = [ModelCheckpoint('save/mnist-dense.hdf5', monitor='val_loss', save_best_only=True)]"
   ]
  },
  {
   "cell_type": "markdown",
   "metadata": {},
   "source": [
    "## Запускаем обучение нейронной сети"
   ]
  },
  {
   "cell_type": "code",
   "execution_count": 44,
   "metadata": {},
   "outputs": [
    {
     "name": "stdout",
     "output_type": "stream",
     "text": [
      "Train on 48000 samples, validate on 12000 samples\n",
      "Epoch 1/25\n",
      " - 1s - loss: 2.6576e-04 - acc: 1.0000 - val_loss: 0.0818 - val_acc: 0.9818\n",
      "Epoch 2/25\n",
      " - 1s - loss: 2.3354e-04 - acc: 1.0000 - val_loss: 0.0834 - val_acc: 0.9822\n",
      "Epoch 3/25\n",
      " - 1s - loss: 1.9596e-04 - acc: 1.0000 - val_loss: 0.0830 - val_acc: 0.9815\n",
      "Epoch 4/25\n",
      " - 1s - loss: 1.6611e-04 - acc: 1.0000 - val_loss: 0.0843 - val_acc: 0.9823\n",
      "Epoch 5/25\n",
      " - 1s - loss: 1.4547e-04 - acc: 1.0000 - val_loss: 0.0849 - val_acc: 0.9824\n",
      "Epoch 6/25\n",
      " - 1s - loss: 1.2770e-04 - acc: 1.0000 - val_loss: 0.0854 - val_acc: 0.9818\n",
      "Epoch 7/25\n",
      " - 1s - loss: 1.1095e-04 - acc: 1.0000 - val_loss: 0.0861 - val_acc: 0.9818\n",
      "Epoch 8/25\n",
      " - 1s - loss: 9.8299e-05 - acc: 1.0000 - val_loss: 0.0873 - val_acc: 0.9822\n",
      "Epoch 9/25\n",
      " - 1s - loss: 8.6590e-05 - acc: 1.0000 - val_loss: 0.0877 - val_acc: 0.9826\n",
      "Epoch 10/25\n",
      " - 1s - loss: 7.2281e-05 - acc: 1.0000 - val_loss: 0.0890 - val_acc: 0.9822\n",
      "Epoch 11/25\n",
      " - 1s - loss: 6.3465e-05 - acc: 1.0000 - val_loss: 0.0906 - val_acc: 0.9819\n",
      "Epoch 12/25\n",
      " - 1s - loss: 5.6449e-05 - acc: 1.0000 - val_loss: 0.0906 - val_acc: 0.9820\n",
      "Epoch 13/25\n",
      " - 1s - loss: 4.7633e-05 - acc: 1.0000 - val_loss: 0.0921 - val_acc: 0.9819\n",
      "Epoch 14/25\n",
      " - 1s - loss: 4.1435e-05 - acc: 1.0000 - val_loss: 0.0925 - val_acc: 0.9822\n",
      "Epoch 15/25\n",
      " - 1s - loss: 3.6661e-05 - acc: 1.0000 - val_loss: 0.0924 - val_acc: 0.9823\n",
      "Epoch 16/25\n",
      " - 1s - loss: 3.2374e-05 - acc: 1.0000 - val_loss: 0.0937 - val_acc: 0.9819\n",
      "Epoch 17/25\n",
      " - 1s - loss: 2.8458e-05 - acc: 1.0000 - val_loss: 0.0947 - val_acc: 0.9819\n",
      "Epoch 18/25\n",
      " - 1s - loss: 2.5077e-05 - acc: 1.0000 - val_loss: 0.0959 - val_acc: 0.9819\n",
      "Epoch 19/25\n",
      " - 1s - loss: 2.1489e-05 - acc: 1.0000 - val_loss: 0.0958 - val_acc: 0.9824\n",
      "Epoch 20/25\n",
      " - 1s - loss: 1.8381e-05 - acc: 1.0000 - val_loss: 0.0964 - val_acc: 0.9826\n",
      "Epoch 21/25\n",
      " - 1s - loss: 1.6620e-05 - acc: 1.0000 - val_loss: 0.0980 - val_acc: 0.9823\n",
      "Epoch 22/25\n",
      " - 1s - loss: 1.4515e-05 - acc: 1.0000 - val_loss: 0.0992 - val_acc: 0.9822\n",
      "Epoch 23/25\n",
      " - 1s - loss: 1.2571e-05 - acc: 1.0000 - val_loss: 0.0983 - val_acc: 0.9824\n",
      "Epoch 24/25\n",
      " - 1s - loss: 1.1061e-05 - acc: 1.0000 - val_loss: 0.1001 - val_acc: 0.9820\n",
      "Epoch 25/25\n",
      " - 1s - loss: 9.6043e-06 - acc: 1.0000 - val_loss: 0.1001 - val_acc: 0.9823\n"
     ]
    }
   ],
   "source": [
    "history = model.fit(X_train, Y_train, batch_size=200, epochs=25, validation_split=0.2, verbose=2, callbacks=callbacks)"
   ]
  },
  {
   "cell_type": "code",
   "execution_count": null,
   "metadata": {},
   "outputs": [],
   "source": []
  }
 ],
 "metadata": {
  "kernelspec": {
   "display_name": "Python 3",
   "language": "python",
   "name": "python3"
  },
  "language_info": {
   "codemirror_mode": {
    "name": "ipython",
    "version": 3
   },
   "file_extension": ".py",
   "mimetype": "text/x-python",
   "name": "python",
   "nbconvert_exporter": "python",
   "pygments_lexer": "ipython3",
   "version": "3.6.5"
  }
 },
 "nbformat": 4,
 "nbformat_minor": 2
}
