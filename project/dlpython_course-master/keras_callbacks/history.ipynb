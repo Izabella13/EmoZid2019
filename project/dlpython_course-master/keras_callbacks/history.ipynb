{
 "cells": [
  {
   "cell_type": "markdown",
   "metadata": {},
   "source": [
    "# Пример использования History Callback для визуализации процесса обучения нейросети\n",
    "\n",
    "Документация по [History Callback](https://keras.io/callbacks/#history) на сайте Keras."
   ]
  },
  {
   "cell_type": "code",
   "execution_count": 1,
   "metadata": {},
   "outputs": [
    {
     "name": "stderr",
     "output_type": "stream",
     "text": [
      "C:\\Users\\sozyk\\Anaconda3\\lib\\site-packages\\h5py\\__init__.py:36: FutureWarning: Conversion of the second argument of issubdtype from `float` to `np.floating` is deprecated. In future, it will be treated as `np.float64 == np.dtype(float).type`.\n",
      "  from ._conv import register_converters as _register_converters\n"
     ]
    }
   ],
   "source": [
    "from tensorflow.python.keras.datasets import mnist\n",
    "from tensorflow.python.keras.models import Sequential\n",
    "from tensorflow.python.keras.layers import Dense\n",
    "from tensorflow.python.keras import utils\n",
    "import numpy as np\n",
    "import matplotlib.pyplot as plt\n",
    "from scipy.misc import toimage\n",
    "%matplotlib inline "
   ]
  },
  {
   "cell_type": "markdown",
   "metadata": {},
   "source": [
    "# Загружаем данные MNIST"
   ]
  },
  {
   "cell_type": "code",
   "execution_count": 2,
   "metadata": {},
   "outputs": [],
   "source": [
    "(X_train, y_train), (X_test, y_test) = mnist.load_data()"
   ]
  },
  {
   "cell_type": "markdown",
   "metadata": {},
   "source": [
    "Преобразуем данные в нужный формат"
   ]
  },
  {
   "cell_type": "code",
   "execution_count": 3,
   "metadata": {},
   "outputs": [],
   "source": [
    "X_train = X_train.reshape(60000, 784)\n",
    "X_test = X_test.reshape(10000, 784)"
   ]
  },
  {
   "cell_type": "code",
   "execution_count": 4,
   "metadata": {},
   "outputs": [],
   "source": [
    "X_train = X_train.astype('float32')\n",
    "X_test = X_test.astype('float32')\n",
    "X_train /= 255\n",
    "X_test /= 255"
   ]
  },
  {
   "cell_type": "code",
   "execution_count": 5,
   "metadata": {},
   "outputs": [],
   "source": [
    "Y_train = utils.to_categorical(y_train, 10)\n",
    "Y_test = utils.to_categorical(y_test, 10)"
   ]
  },
  {
   "cell_type": "markdown",
   "metadata": {},
   "source": [
    "# Создаем нейронную сеть"
   ]
  },
  {
   "cell_type": "code",
   "execution_count": 6,
   "metadata": {},
   "outputs": [],
   "source": [
    "model = Sequential()"
   ]
  },
  {
   "cell_type": "code",
   "execution_count": 7,
   "metadata": {},
   "outputs": [],
   "source": [
    "model.add(Dense(800, input_dim=784, activation=\"relu\"))\n",
    "model.add(Dense(10, activation=\"softmax\"))"
   ]
  },
  {
   "cell_type": "markdown",
   "metadata": {},
   "source": [
    "Компилируем сеть"
   ]
  },
  {
   "cell_type": "code",
   "execution_count": 8,
   "metadata": {},
   "outputs": [],
   "source": [
    "model.compile(loss=\"categorical_crossentropy\", optimizer=\"adam\", metrics=[\"accuracy\"])"
   ]
  },
  {
   "cell_type": "markdown",
   "metadata": {},
   "source": [
    "## Запускаем обучение нейронной сети"
   ]
  },
  {
   "cell_type": "code",
   "execution_count": 9,
   "metadata": {},
   "outputs": [
    {
     "name": "stdout",
     "output_type": "stream",
     "text": [
      "Train on 48000 samples, validate on 12000 samples\n",
      "Epoch 1/25\n",
      " - 4s - loss: 0.3210 - acc: 0.9085 - val_loss: 0.1637 - val_acc: 0.9532\n",
      "Epoch 2/25\n",
      " - 1s - loss: 0.1299 - acc: 0.9630 - val_loss: 0.1120 - val_acc: 0.9664\n",
      "Epoch 3/25\n",
      " - 1s - loss: 0.0848 - acc: 0.9761 - val_loss: 0.0958 - val_acc: 0.9713\n",
      "Epoch 4/25\n",
      " - 1s - loss: 0.0596 - acc: 0.9834 - val_loss: 0.0840 - val_acc: 0.9753\n",
      "Epoch 5/25\n",
      " - 1s - loss: 0.0431 - acc: 0.9880 - val_loss: 0.0793 - val_acc: 0.9770\n",
      "Epoch 6/25\n",
      " - 1s - loss: 0.0311 - acc: 0.9918 - val_loss: 0.0820 - val_acc: 0.9768\n",
      "Epoch 7/25\n",
      " - 1s - loss: 0.0244 - acc: 0.9937 - val_loss: 0.0746 - val_acc: 0.9769\n",
      "Epoch 8/25\n",
      " - 1s - loss: 0.0179 - acc: 0.9958 - val_loss: 0.0744 - val_acc: 0.9790\n",
      "Epoch 9/25\n",
      " - 1s - loss: 0.0129 - acc: 0.9973 - val_loss: 0.0732 - val_acc: 0.9797\n",
      "Epoch 10/25\n",
      " - 1s - loss: 0.0094 - acc: 0.9985 - val_loss: 0.0698 - val_acc: 0.9793\n",
      "Epoch 11/25\n",
      " - 1s - loss: 0.0071 - acc: 0.9989 - val_loss: 0.0727 - val_acc: 0.9800\n",
      "Epoch 12/25\n",
      " - 1s - loss: 0.0051 - acc: 0.9995 - val_loss: 0.0758 - val_acc: 0.9801\n",
      "Epoch 13/25\n",
      " - 1s - loss: 0.0043 - acc: 0.9995 - val_loss: 0.0778 - val_acc: 0.9799\n",
      "Epoch 14/25\n",
      " - 1s - loss: 0.0031 - acc: 0.9998 - val_loss: 0.0745 - val_acc: 0.9818\n",
      "Epoch 15/25\n",
      " - 1s - loss: 0.0022 - acc: 0.9999 - val_loss: 0.0734 - val_acc: 0.9806\n",
      "Epoch 16/25\n",
      " - 1s - loss: 0.0018 - acc: 0.9999 - val_loss: 0.0749 - val_acc: 0.9819\n",
      "Epoch 17/25\n",
      " - 1s - loss: 0.0013 - acc: 1.0000 - val_loss: 0.0758 - val_acc: 0.9822\n",
      "Epoch 18/25\n",
      " - 1s - loss: 0.0010 - acc: 1.0000 - val_loss: 0.0762 - val_acc: 0.9821\n",
      "Epoch 19/25\n",
      " - 1s - loss: 0.0108 - acc: 0.9969 - val_loss: 0.1014 - val_acc: 0.9756\n",
      "Epoch 20/25\n",
      " - 1s - loss: 0.0182 - acc: 0.9941 - val_loss: 0.0911 - val_acc: 0.9784\n",
      "Epoch 21/25\n",
      " - 1s - loss: 0.0066 - acc: 0.9980 - val_loss: 0.0883 - val_acc: 0.9804\n",
      "Epoch 22/25\n",
      " - 1s - loss: 0.0017 - acc: 0.9998 - val_loss: 0.0808 - val_acc: 0.9824\n",
      "Epoch 23/25\n",
      " - 1s - loss: 5.9035e-04 - acc: 1.0000 - val_loss: 0.0801 - val_acc: 0.9830\n",
      "Epoch 24/25\n",
      " - 1s - loss: 3.8486e-04 - acc: 1.0000 - val_loss: 0.0818 - val_acc: 0.9823\n",
      "Epoch 25/25\n",
      " - 1s - loss: 3.1852e-04 - acc: 1.0000 - val_loss: 0.0821 - val_acc: 0.9831\n"
     ]
    }
   ],
   "source": [
    "history = model.fit(X_train, Y_train, batch_size=200, epochs=25, validation_split=0.2, verbose=2)"
   ]
  },
  {
   "cell_type": "markdown",
   "metadata": {},
   "source": [
    "## Исследуем объект History"
   ]
  },
  {
   "cell_type": "markdown",
   "metadata": {},
   "source": [
    "Состав словаря History"
   ]
  },
  {
   "cell_type": "code",
   "execution_count": 10,
   "metadata": {},
   "outputs": [
    {
     "name": "stdout",
     "output_type": "stream",
     "text": [
      "dict_keys(['val_loss', 'val_acc', 'loss', 'acc'])\n"
     ]
    }
   ],
   "source": [
    "print(history.history.keys())"
   ]
  },
  {
   "cell_type": "markdown",
   "metadata": {},
   "source": [
    "Печатаем значения аккуратности на обучающем наборе данных"
   ]
  },
  {
   "cell_type": "code",
   "execution_count": 11,
   "metadata": {},
   "outputs": [
    {
     "name": "stdout",
     "output_type": "stream",
     "text": [
      "[0.9084583309168617, 0.9630416651566823, 0.9760833442211151, 0.9834375128149986, 0.9880000106990338, 0.9917916744947434, 0.9937083393335342, 0.9958125039935112, 0.9972708359360695, 0.9985416680574417, 0.9988541677594185, 0.9995208337903023, 0.9995416671037674, 0.9997916668653488, 0.9998750001192093, 0.9999166667461395, 1.0, 0.9999583333730697, 0.9969166696071625, 0.9940625056624413, 0.9980416685342789, 0.9997916668653488, 1.0, 1.0, 1.0]\n"
     ]
    }
   ],
   "source": [
    "print(history.history['acc'])"
   ]
  },
  {
   "cell_type": "markdown",
   "metadata": {},
   "source": [
    "Печатаем значения аккуратности на тестовом проверочном наборе данных"
   ]
  },
  {
   "cell_type": "code",
   "execution_count": 12,
   "metadata": {},
   "outputs": [
    {
     "name": "stdout",
     "output_type": "stream",
     "text": [
      "[0.9532499978939692, 0.966416671872139, 0.971250006556511, 0.9753333429495493, 0.9770000110069911, 0.9768333405256271, 0.9769166777531306, 0.9790000100930532, 0.9796666751305262, 0.9793333421150844, 0.9800000101327896, 0.98008334338665, 0.9799166758855183, 0.9817500094572703, 0.9805833439032237, 0.9819166779518127, 0.9821666757265727, 0.9820833424727122, 0.9755833446979523, 0.9784166773160299, 0.980416676402092, 0.9824166754881541, 0.9830000092585881, 0.9822500089804331, 0.9830833415190379]\n"
     ]
    }
   ],
   "source": [
    "print(history.history['val_acc'])"
   ]
  },
  {
   "cell_type": "markdown",
   "metadata": {},
   "source": [
    "## Визуализируем историю обучения сети"
   ]
  },
  {
   "cell_type": "code",
   "execution_count": 13,
   "metadata": {},
   "outputs": [
    {
     "data": {
      "image/png": "[encoded data removed]",
      "text/plain": [
       "<Figure size 432x288 with 1 Axes>"
      ]
     },
     "metadata": {},
     "output_type": "display_data"
    }
   ],
   "source": [
    "plt.plot(history.history['acc'], label='Аккуратность на обучающем наборе')\n",
    "plt.plot(history.history['val_acc'], label='Аккуратность на проверочном наборе')\n",
    "plt.xlabel('Эпоха обучения')\n",
    "plt.ylabel('Аккуратность')\n",
    "plt.legend()\n",
    "plt.show()"
   ]
  },
  {
   "cell_type": "code",
   "execution_count": 14,
   "metadata": {},
   "outputs": [
    {
     "data": {
      "image/png": "[encoded data removed]",
      "text/plain": [
       "<Figure size 432x288 with 1 Axes>"
      ]
     },
     "metadata": {},
     "output_type": "display_data"
    }
   ],
   "source": [
    "plt.plot(history.history['loss'], label='Ошибка на обучающем наборе')\n",
    "plt.plot(history.history['val_loss'], label='Ошибка на проверочном наборе')\n",
    "plt.xlabel('Эпоха обучения')\n",
    "plt.ylabel('Ошибка')\n",
    "plt.legend()\n",
    "plt.show()"
   ]
  },
  {
   "cell_type": "code",
   "execution_count": null,
   "metadata": {},
   "outputs": [],
   "source": []
  }
 ],
 "metadata": {
  "kernelspec": {
   "display_name": "Python 3",
   "language": "python",
   "name": "python3"
  },
  "language_info": {
   "codemirror_mode": {
    "name": "ipython",
    "version": 3
   },
   "file_extension": ".py",
   "mimetype": "text/x-python",
   "name": "python",
   "nbconvert_exporter": "python",
   "pygments_lexer": "ipython3",
   "version": "3.6.5"
  }
 },
 "nbformat": 4,
 "nbformat_minor": 2
}
